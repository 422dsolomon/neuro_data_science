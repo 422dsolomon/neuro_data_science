{
 "cells": [
  {
   "cell_type": "markdown",
   "metadata": {},
   "source": [
    "# Conceptual Questions\n",
    "\n",
    "1. Explain when you would run a paired vs. unpaired statistical test. Is one test more powerful than the other? Give examples of experiments that would require one or the other.\n",
    "  > Data is considered paired when they are observed from the same “subject.” Examples can include: before and after treatment (like pharmacology on neurons; drugs given to patients; experiences like sleep deprivation or training). Data is considered unpaired or two-sample when they are measured from different, independent “subjects.” Examples can include: males vs. females; control vs. experimental condition animals; young vs. old.\n",
    "1. Compare and contrast the parametric t-test and non-parametric Wilcoxon-Mann-Whitney tests (the requirements, assumptions, key differences).\n",
    "  > t-tests require/assume the following: (1) data is continuous, (2) data is normal (or at least the population it comes from is normal, (3) the data is a random sample of the population. The Wilcox-Mann-Whitney is the non-parametric version of a 2-sample t-test and can be used when the data is not normally distributed. Generally speaking, t-tests are more powerful than non-parametric tests (since you are relying on the assumption that the data is normal), however non-parametric tests require less assumptions.\n"
   ]
  },
  {
   "cell_type": "markdown",
   "metadata": {},
   "source": [
    "# Problem 1: Example of 2-sample (unpaired) t-test\n",
    "Data Introduction: Octopamine has been implicated in modulating feeding behaviors in both vertebrates and invertebrates. Pargyline has been shown to increase the levels of octopamine in the nervous system. The role of Pargyline in sucrose consumption was tested in blowflies. Two groups of blowfies were used in this study: one group was injected with Parglyine (n=295 flies) while the control group was injected with saline (n = 300 flies). The amount of sucrose consumed was then measured. [adapted from Samuels & Witmer, pg 220. Originally: Long & Murdock, PNAS 1983]\n",
    "\n",
    "1. A two-sample t-test is the most appropriate test for this data set. Why?\n",
    "  > We are comparing two different populations of flies: saline injected (control) and parglyine injected (experimental).\n",
    "1. Load in the data set and visualize the two conditions as histograms. What can you say about the data? What are the means and standard deviations of the two groups?\n",
    "  > The data definitely looks normal and mean of the parglyine animals is substantially higher than the mean of the saline animals\n",
    "1. Visualize the data as box & whisker plots and bar graphs with standard deviations\n",
    "1. Are the two groups statistically different? (try with a t-test)\n"
   ]
  },
  {
   "cell_type": "code",
   "execution_count": 12,
   "metadata": {
    "collapsed": true
   },
   "outputs": [],
   "source": [
    "import pandas as pd\n",
    "import numpy as np\n",
    "import matplotlib.pyplot as plt\n",
    "%matplotlib inline"
   ]
  },
  {
   "cell_type": "code",
   "execution_count": 70,
   "metadata": {
    "collapsed": false
   },
   "outputs": [
    {
     "data": {
      "text/html": [
       "<div>\n",
       "<table border=\"1\" class=\"dataframe\">\n",
       "  <thead>\n",
       "    <tr style=\"text-align: right;\">\n",
       "      <th></th>\n",
       "      <th>animal</th>\n",
       "      <th>measurement</th>\n",
       "      <th>feed_type</th>\n",
       "      <th>side</th>\n",
       "      <th>measurement_type</th>\n",
       "    </tr>\n",
       "  </thead>\n",
       "  <tbody>\n",
       "    <tr>\n",
       "      <th>0</th>\n",
       "      <td>NaN</td>\n",
       "      <td>21.7</td>\n",
       "      <td>saline</td>\n",
       "      <td>NaN</td>\n",
       "      <td>sucrose_consumption</td>\n",
       "    </tr>\n",
       "    <tr>\n",
       "      <th>1</th>\n",
       "      <td>NaN</td>\n",
       "      <td>17.0</td>\n",
       "      <td>saline</td>\n",
       "      <td>NaN</td>\n",
       "      <td>sucrose_consumption</td>\n",
       "    </tr>\n",
       "    <tr>\n",
       "      <th>2</th>\n",
       "      <td>NaN</td>\n",
       "      <td>11.1</td>\n",
       "      <td>saline</td>\n",
       "      <td>NaN</td>\n",
       "      <td>sucrose_consumption</td>\n",
       "    </tr>\n",
       "    <tr>\n",
       "      <th>3</th>\n",
       "      <td>NaN</td>\n",
       "      <td>6.3</td>\n",
       "      <td>saline</td>\n",
       "      <td>NaN</td>\n",
       "      <td>sucrose_consumption</td>\n",
       "    </tr>\n",
       "    <tr>\n",
       "      <th>4</th>\n",
       "      <td>NaN</td>\n",
       "      <td>19.3</td>\n",
       "      <td>saline</td>\n",
       "      <td>NaN</td>\n",
       "      <td>sucrose_consumption</td>\n",
       "    </tr>\n",
       "  </tbody>\n",
       "</table>\n",
       "</div>"
      ],
      "text/plain": [
       "   animal  measurement feed_type side     measurement_type\n",
       "0     NaN         21.7    saline  NaN  sucrose_consumption\n",
       "1     NaN         17.0    saline  NaN  sucrose_consumption\n",
       "2     NaN         11.1    saline  NaN  sucrose_consumption\n",
       "3     NaN          6.3    saline  NaN  sucrose_consumption\n",
       "4     NaN         19.3    saline  NaN  sucrose_consumption"
      ]
     },
     "execution_count": 70,
     "metadata": {},
     "output_type": "execute_result"
    }
   ],
   "source": [
    "data = pd.read_csv('../../../data/fly_feeding.csv')\n",
    "data.head()"
   ]
  },
  {
   "cell_type": "code",
   "execution_count": 32,
   "metadata": {
    "collapsed": false
   },
   "outputs": [
    {
     "data": {
      "text/plain": [
       "array(['saline', 'pargyline', 'saline_two', 'parglyine_w_yohimbine',\n",
       "       'creatine_phosphate', 'feeding_type_1', 'feeding_type_2'], dtype=object)"
      ]
     },
     "execution_count": 32,
     "metadata": {},
     "output_type": "execute_result"
    }
   ],
   "source": [
    "data['feed_type'].unique()"
   ]
  },
  {
   "cell_type": "markdown",
   "metadata": {},
   "source": [
    "First, show the distributions for feeding behavior under parglyine and saline"
   ]
  },
  {
   "cell_type": "code",
   "execution_count": 63,
   "metadata": {
    "collapsed": false
   },
   "outputs": [
    {
     "data": {
      "image/png": "[encoded data removed]",
      "text/plain": [
       "<matplotlib.figure.Figure at 0x11f0f10b8>"
      ]
     },
     "metadata": {},
     "output_type": "display_data"
    }
   ],
   "source": [
    "data_par = data.query('feed_type == \"pargyline\"')['measurement'].values\n",
    "data_sal = data.query('feed_type == \"saline\"')['measurement'].values\n",
    "\n",
    "fig, ax = plt.subplots()\n",
    "ax.hist(data_par)\n",
    "_ = ax.hist(data_sal)"
   ]
  },
  {
   "cell_type": "code",
   "execution_count": 64,
   "metadata": {
    "collapsed": false
   },
   "outputs": [
    {
     "data": {
      "text/plain": [
       "<matplotlib.axes._subplots.AxesSubplot at 0x11f71b898>"
      ]
     },
     "execution_count": 64,
     "metadata": {},
     "output_type": "execute_result"
    },
    {
     "data": {
      "image/png": "[encoded data removed]",
      "text/plain": [
       "<matplotlib.figure.Figure at 0x11f26f080>"
      ]
     },
     "metadata": {},
     "output_type": "display_data"
    }
   ],
   "source": [
    "data.query('feed_type in [\"pargyline\", \"saline\"]').\\\n",
    "    boxplot('measurement', by='feed_type')"
   ]
  },
  {
   "cell_type": "code",
   "execution_count": 19,
   "metadata": {
    "collapsed": true
   },
   "outputs": [],
   "source": [
    "from scipy.stats import ttest_ind"
   ]
  },
  {
   "cell_type": "code",
   "execution_count": 29,
   "metadata": {
    "collapsed": false
   },
   "outputs": [
    {
     "name": "stdout",
     "output_type": "stream",
     "text": [
      "Ttest_indResult(statistic=41.861017904148426, pvalue=3.3320050655092234e-179)\n"
     ]
    }
   ],
   "source": [
    "res = ttest_ind(data_par, data_sal)\n",
    "print(res)"
   ]
  },
  {
   "cell_type": "markdown",
   "metadata": {},
   "source": [
    "## Follow-up experiment\n",
    "To further confirm octopamine positively modulates feeding behavior, an additional experiment was done with Yohimbine (an antagonist of octopamine receptors in insects). One group was injected with Parglyine and Yohimbine (n = 130) while an additional control group was injected with saline (n = 100). The amount of sucrose consumed was then measured.\n",
    "\n",
    "1. Load in the data set and visualize the two conditions as histograms, box & whisker plot, and bar graphs with SD error bars.\n",
    "```\n",
    "\t# load the data\n",
    "E = read.delim(\"problem1E.txt\", header = TRUE, fill = TRUE)\n",
    "\t# make the figure be two rows\n",
    "\tpar(mfrow = c(4,1))\n",
    "\t# make the histograms\n",
    "hist(E$saline2)\n",
    "\thist(E$parglyine_yohimbine)\n",
    "\t# box & whisker\n",
    "\tboxplot(E)\n",
    "\t# bar graph\n",
    "\tE_mean = mean(E,na.rm=TRUE)\n",
    "\tE_sd = sd(E,na.rm=TRUE)\n",
    "barx = barplot(E_mean)\n",
    "\tarrows(barx,E_mean-E_sd,barx,E_mean+E_sd, angle=90, code=3)\n",
    "```\n",
    "1. Are the two groups statistically different? (run t test)\n",
    "1. Can you think of other, or better, experiments that can be done to test the role of octopamine in feeding regulation?\n",
    "> Almost any answer is acceptable. Doing within-animal (or paired) experiment. Looking a the effects of Yohimbine along. Etc.\n"
   ]
  },
  {
   "cell_type": "code",
   "execution_count": 66,
   "metadata": {
    "collapsed": false
   },
   "outputs": [],
   "source": [
    "data_par_yoh = data.query('feed_type == \"parglyine_w_yohimbine\"')\n",
    "data_par_yoh = data_par_yoh['measurement'].values"
   ]
  },
  {
   "cell_type": "code",
   "execution_count": 67,
   "metadata": {
    "collapsed": false
   },
   "outputs": [
    {
     "data": {
      "image/png": "[encoded data removed]",
      "text/plain": [
       "<matplotlib.figure.Figure at 0x11f037a20>"
      ]
     },
     "metadata": {},
     "output_type": "display_data"
    }
   ],
   "source": [
    "fig, ax = plt.subplots()\n",
    "ax.hist(data_sal)\n",
    "_ = ax.hist(data_par_yoh)"
   ]
  },
  {
   "cell_type": "code",
   "execution_count": 54,
   "metadata": {
    "collapsed": false
   },
   "outputs": [
    {
     "data": {
      "image/png": "[encoded data removed]",
      "text/plain": [
       "<matplotlib.figure.Figure at 0x11f2695c0>"
      ]
     },
     "metadata": {},
     "output_type": "display_data"
    }
   ],
   "source": [
    "fig, ax = plt.subplots()\n",
    "plt_data = [(data_sal, 'saline'), (data_par_yoh, 'par_yoh')]\n",
    "for ii, (idata, nm) in enumerate(plt_data):\n",
    "    mean = np.mean(idata)\n",
    "    ste = idata.std() / np.sqrt(data.shape[0])\n",
    "    ax.vlines(ii, mean - ste, mean + ste)\n",
    "_ = plt.setp(ax, xlim=[-1, 2], ylim=[10, 20])"
   ]
  },
  {
   "cell_type": "code",
   "execution_count": 68,
   "metadata": {
    "collapsed": false
   },
   "outputs": [
    {
     "data": {
      "text/plain": [
       "<matplotlib.axes._subplots.AxesSubplot at 0x11dc00e10>"
      ]
     },
     "execution_count": 68,
     "metadata": {},
     "output_type": "execute_result"
    },
    {
     "data": {
      "image/png": "[encoded data removed]",
      "text/plain": [
       "<matplotlib.figure.Figure at 0x11ee3c8d0>"
      ]
     },
     "metadata": {},
     "output_type": "display_data"
    }
   ],
   "source": [
    "data_box = data.query('feed_type in [\"parglyine_w_yohimbine\", \"saline\"]')\n",
    "data_box.boxplot('measurement', by='feed_type')"
   ]
  },
  {
   "cell_type": "code",
   "execution_count": 56,
   "metadata": {
    "collapsed": false
   },
   "outputs": [
    {
     "name": "stdout",
     "output_type": "stream",
     "text": [
      "Ttest_indResult(statistic=0.66622501018272595, pvalue=0.50562622201652518)\n"
     ]
    }
   ],
   "source": [
    "res = ttest_ind(data_sal, data_par_yoh)\n",
    "print(res)"
   ]
  },
  {
   "cell_type": "markdown",
   "metadata": {},
   "source": [
    "## Problem 2: Example of paired t-test\n",
    "Data Introduction: Certain types of nerve cells have the ability to regenerate a part of the cell that has been amputated. In an early study of this process, measurements were made on the nerves in the the spinal cord of rhesus monkeys. Nerves emanating from the left side of the cord were cut, while nerves from the right side were kept intact. During the regeneration process, the amount of creatine phosphate (CP) was measured in the left and right portions of the spinal cord. You are interested in whether CP levels are different between the cut and control sides of the spinal cord. [adapted from Samuels & Witmer, pg 387. Originally: Bodian (1947)]\n",
    "\n",
    "1. Let’s say a paired t-test is the most appropriate test for this data set. What assumptions are we making?\n",
    "  > Two major ones: CP levels are normally distributed and the observations came from a single animal/spinal cord.\n",
    "1. Load in and visual the data (as a histogram, boxplot, and connecting pairs).\n",
    "\n",
    "```\n",
    "# load the data\n",
    "CP = read.delim(\"problem2.txt\", header = TRUE)\n",
    "# rename the headers:\n",
    "names(CP) = c(“animal”,”L”,”R”)\n",
    "# make the figure be two rows\n",
    "par(mfrow = c(4,1))\n",
    "# make the histograms\n",
    "hist(CP$R)\n",
    "hist(CPg$L)\n",
    "# boxplot\n",
    "boxplot(CP)\n",
    "# connected data \n",
    "stripchart(list(CP$R,CP$L),vertical=T,pch=16)\n",
    "segments(c(1,1,1,1,1,1,1,1),CP$R,c(2,2,2,2,2,2,2,2),CP$L)\n",
    "```\n",
    "1. Is there a statistical difference in CP levels? (hint: run paired sample t.test)\n",
    "  > Yes p = 0.031\n",
    "1. What happens when you run a 2-sample t-test? Explain why you might see a difference in results between the 1-sample and 2-sample test.\n",
    "  > The difference is no longer significant (p=0.165). Generally speaking, paired tests are more power (since an additional relationship is already assumed), and in particular work well for data with noisy baselines.\n",
    "1. Paired t-tests are essentially one-sample t-tests. Paired t-tests takes the two measurements, subtracts them, and then runs a one-sample t-test testing if the mean is equal to zero. Try it out and compare your results!\n"
   ]
  },
  {
   "cell_type": "code",
   "execution_count": null,
   "metadata": {
    "collapsed": true
   },
   "outputs": [],
   "source": [
    "import statsmodels.api as sm\n",
    "from scipy.stats import ttest_1samp"
   ]
  },
  {
   "cell_type": "code",
   "execution_count": 72,
   "metadata": {
    "collapsed": false
   },
   "outputs": [
    {
     "data": {
      "text/html": [
       "<div>\n",
       "<table border=\"1\" class=\"dataframe\">\n",
       "  <thead>\n",
       "    <tr style=\"text-align: right;\">\n",
       "      <th></th>\n",
       "      <th>animal</th>\n",
       "      <th>measurement</th>\n",
       "      <th>feed_type</th>\n",
       "      <th>side</th>\n",
       "      <th>measurement_type</th>\n",
       "    </tr>\n",
       "  </thead>\n",
       "  <tbody>\n",
       "    <tr>\n",
       "      <th>825</th>\n",
       "      <td>1.0</td>\n",
       "      <td>11.5</td>\n",
       "      <td>NaN</td>\n",
       "      <td>Left</td>\n",
       "      <td>creatine_phosphate</td>\n",
       "    </tr>\n",
       "    <tr>\n",
       "      <th>826</th>\n",
       "      <td>2.0</td>\n",
       "      <td>3.6</td>\n",
       "      <td>NaN</td>\n",
       "      <td>Left</td>\n",
       "      <td>creatine_phosphate</td>\n",
       "    </tr>\n",
       "    <tr>\n",
       "      <th>827</th>\n",
       "      <td>3.0</td>\n",
       "      <td>12.5</td>\n",
       "      <td>NaN</td>\n",
       "      <td>Left</td>\n",
       "      <td>creatine_phosphate</td>\n",
       "    </tr>\n",
       "    <tr>\n",
       "      <th>828</th>\n",
       "      <td>4.0</td>\n",
       "      <td>6.3</td>\n",
       "      <td>NaN</td>\n",
       "      <td>Left</td>\n",
       "      <td>creatine_phosphate</td>\n",
       "    </tr>\n",
       "    <tr>\n",
       "      <th>829</th>\n",
       "      <td>5.0</td>\n",
       "      <td>15.2</td>\n",
       "      <td>NaN</td>\n",
       "      <td>Left</td>\n",
       "      <td>creatine_phosphate</td>\n",
       "    </tr>\n",
       "    <tr>\n",
       "      <th>830</th>\n",
       "      <td>6.0</td>\n",
       "      <td>8.1</td>\n",
       "      <td>NaN</td>\n",
       "      <td>Left</td>\n",
       "      <td>creatine_phosphate</td>\n",
       "    </tr>\n",
       "    <tr>\n",
       "      <th>831</th>\n",
       "      <td>7.0</td>\n",
       "      <td>16.6</td>\n",
       "      <td>NaN</td>\n",
       "      <td>Left</td>\n",
       "      <td>creatine_phosphate</td>\n",
       "    </tr>\n",
       "    <tr>\n",
       "      <th>832</th>\n",
       "      <td>8.0</td>\n",
       "      <td>13.1</td>\n",
       "      <td>NaN</td>\n",
       "      <td>Left</td>\n",
       "      <td>creatine_phosphate</td>\n",
       "    </tr>\n",
       "    <tr>\n",
       "      <th>833</th>\n",
       "      <td>1.0</td>\n",
       "      <td>16.3</td>\n",
       "      <td>NaN</td>\n",
       "      <td>Right</td>\n",
       "      <td>creatine_phosphate</td>\n",
       "    </tr>\n",
       "    <tr>\n",
       "      <th>834</th>\n",
       "      <td>2.0</td>\n",
       "      <td>4.8</td>\n",
       "      <td>NaN</td>\n",
       "      <td>Right</td>\n",
       "      <td>creatine_phosphate</td>\n",
       "    </tr>\n",
       "    <tr>\n",
       "      <th>835</th>\n",
       "      <td>3.0</td>\n",
       "      <td>10.9</td>\n",
       "      <td>NaN</td>\n",
       "      <td>Right</td>\n",
       "      <td>creatine_phosphate</td>\n",
       "    </tr>\n",
       "    <tr>\n",
       "      <th>836</th>\n",
       "      <td>4.0</td>\n",
       "      <td>14.2</td>\n",
       "      <td>NaN</td>\n",
       "      <td>Right</td>\n",
       "      <td>creatine_phosphate</td>\n",
       "    </tr>\n",
       "    <tr>\n",
       "      <th>837</th>\n",
       "      <td>5.0</td>\n",
       "      <td>16.3</td>\n",
       "      <td>NaN</td>\n",
       "      <td>Right</td>\n",
       "      <td>creatine_phosphate</td>\n",
       "    </tr>\n",
       "    <tr>\n",
       "      <th>838</th>\n",
       "      <td>6.0</td>\n",
       "      <td>9.9</td>\n",
       "      <td>NaN</td>\n",
       "      <td>Right</td>\n",
       "      <td>creatine_phosphate</td>\n",
       "    </tr>\n",
       "    <tr>\n",
       "      <th>839</th>\n",
       "      <td>7.0</td>\n",
       "      <td>29.2</td>\n",
       "      <td>NaN</td>\n",
       "      <td>Right</td>\n",
       "      <td>creatine_phosphate</td>\n",
       "    </tr>\n",
       "    <tr>\n",
       "      <th>840</th>\n",
       "      <td>8.0</td>\n",
       "      <td>22.4</td>\n",
       "      <td>NaN</td>\n",
       "      <td>Right</td>\n",
       "      <td>creatine_phosphate</td>\n",
       "    </tr>\n",
       "  </tbody>\n",
       "</table>\n",
       "</div>"
      ],
      "text/plain": [
       "     animal  measurement feed_type   side    measurement_type\n",
       "825     1.0         11.5       NaN   Left  creatine_phosphate\n",
       "826     2.0          3.6       NaN   Left  creatine_phosphate\n",
       "827     3.0         12.5       NaN   Left  creatine_phosphate\n",
       "828     4.0          6.3       NaN   Left  creatine_phosphate\n",
       "829     5.0         15.2       NaN   Left  creatine_phosphate\n",
       "830     6.0          8.1       NaN   Left  creatine_phosphate\n",
       "831     7.0         16.6       NaN   Left  creatine_phosphate\n",
       "832     8.0         13.1       NaN   Left  creatine_phosphate\n",
       "833     1.0         16.3       NaN  Right  creatine_phosphate\n",
       "834     2.0          4.8       NaN  Right  creatine_phosphate\n",
       "835     3.0         10.9       NaN  Right  creatine_phosphate\n",
       "836     4.0         14.2       NaN  Right  creatine_phosphate\n",
       "837     5.0         16.3       NaN  Right  creatine_phosphate\n",
       "838     6.0          9.9       NaN  Right  creatine_phosphate\n",
       "839     7.0         29.2       NaN  Right  creatine_phosphate\n",
       "840     8.0         22.4       NaN  Right  creatine_phosphate"
      ]
     },
     "execution_count": 72,
     "metadata": {},
     "output_type": "execute_result"
    }
   ],
   "source": [
    "bef_aft = data.query('measurement_type == \"creatine_phosphate\"')\n",
    "bef_aft"
   ]
  },
  {
   "cell_type": "code",
   "execution_count": 83,
   "metadata": {
    "collapsed": true
   },
   "outputs": [],
   "source": [
    "data_left = bef_aft.query('side == \"Left\"')['measurement'].values\n",
    "data_right = bef_aft.query('side == \"Right\"')['measurement'].values"
   ]
  },
  {
   "cell_type": "code",
   "execution_count": 91,
   "metadata": {
    "collapsed": false
   },
   "outputs": [
    {
     "data": {
      "image/png": "[encoded data removed]",
      "text/plain": [
       "<matplotlib.figure.Figure at 0x11f360eb8>"
      ]
     },
     "metadata": {},
     "output_type": "display_data"
    },
    {
     "data": {
      "image/png": "[encoded data removed]",
      "text/plain": [
       "<matplotlib.figure.Figure at 0x11ee915f8>"
      ]
     },
     "metadata": {},
     "output_type": "display_data"
    }
   ],
   "source": [
    "fig, ax = plt.subplots()\n",
    "ax.hist(data_left)\n",
    "_ = ax.hist(data_right)\n",
    "\n",
    "fig, ax = plt.subplots()\n",
    "ax.plot([0, 1], [data_left, data_right], color='k')\n",
    "_ = plt.setp(ax, xlim=[-1, 2])"
   ]
  },
  {
   "cell_type": "code",
   "execution_count": 84,
   "metadata": {
    "collapsed": false
   },
   "outputs": [
    {
     "data": {
      "text/plain": [
       "(0.98433675226862216,\n",
       " (-2.6846726320793439, 0.98433675226862216, 7.0),\n",
       " (-2.6846726320793439, 0.015663247731377845, 7.0))"
      ]
     },
     "execution_count": 84,
     "metadata": {},
     "output_type": "execute_result"
    }
   ],
   "source": [
    "sm.stats.ttost_paired(data_left, data_right, 0, 0)"
   ]
  },
  {
   "cell_type": "code",
   "execution_count": 85,
   "metadata": {
    "collapsed": false
   },
   "outputs": [
    {
     "data": {
      "text/plain": [
       "Ttest_1sampResult(statistic=2.6846726320793435, pvalue=0.031326495462755705)"
      ]
     },
     "execution_count": 85,
     "metadata": {},
     "output_type": "execute_result"
    }
   ],
   "source": [
    "diff = data_right - data_left\n",
    "ttest_1samp(diff, 0)"
   ]
  },
  {
   "cell_type": "markdown",
   "metadata": {},
   "source": [
    "Problem 3: non-parametric tests: Wilcoxon Signed-Rank Test (one sample) and Wilcoxon-Mann-Whitney (two sample).\n",
    "Refer to the data in problem 2.\n",
    "1. Although we previously assumed that a paired t-test was the most appropriate test, one could argue that a paired nonparametric test would be more appropriate. Why or why not?\n",
    "  > Sample size is quite small, making it difficult to assess if the data is normal. Therefore, it may be more appropriate to run a nonparmetric test.\n",
    "1. Assuming a paired nonparametric test is most appropriate, is there a statistical difference in CP levels? (use wilcox.test)\n",
    "wilcox.test(CP$L,CP$R,paired=T)\n",
    "  > There appears to be a difference (p=0.039)\n",
    "1. Let’s assume for a moment that the CP levels were collected from different spinal cords. Is the paired nonparametric test still appropriate? Why?\n",
    "  > Since the data is collected from different samples (or “subjects”) we can no longer run paired tests.\n",
    "1. Assuming a nonparametric 2-sample test is most appropriate, is there a statistical difference in CP levels? (use wilcox.test)\n",
    "  > Just as with t-test, paired nonparametric test also tend to have more power. Therefore, not surprisingly, the 2-sample nonparametric test returns a non-significant effect (p = 0.270)\n"
   ]
  },
  {
   "cell_type": "code",
   "execution_count": null,
   "metadata": {
    "collapsed": true
   },
   "outputs": [],
   "source": [
    "#3.c\n",
    "wilcox.test(data$Right.Side..control., data$Left.Side..regenerating., paired=T)\n",
    "\n",
    "#3.d\n",
    "wilcox.test(data$Right.Side..control., data$Left.Side..regenerating.)"
   ]
  },
  {
   "cell_type": "markdown",
   "metadata": {},
   "source": [
    "## Problem 4: example of t-tests failing: Kolmogorov-Smirnov to the rescue\n",
    "Generally speaking, parametric tests are more powerful than nonparametric tests. That’s because the conditions necessary to run a parametric test gives you some very powerful assumptions. However, there are some cases where nonparametric test can tell you more. Consider arbitrary data D1 and D2.\n",
    "1. Load in and visualize the data. What can you say about the data?\n",
    "    ```\n",
    "\t# load the data\n",
    "dat = read.delim(\"problem4.txt\", header = TRUE, fill = TRUE)\n",
    "\t# make the figure be two rows\n",
    "\tpar(mfrow = c(2,1))\n",
    "\t# make the histograms\n",
    "hist(dat$D1)\n",
    "\thist(dat$D2)\n",
    "\tmean(dat, na.rm=T)\n",
    "\tsd(dat, na.rm=T)\n",
    "    ```\n",
    "  > The means are similar for the data (D1 = 25.4, D2 = 26.2), but the standard deviations are quite different (D1 = 7.0, D2 = 13.1)\n",
    "1. What happens if you run a parametric 2-sample test? What about a non-parametric one?\n",
    "    ```\n",
    "\tt.test(dat$D1,dat$D2)\n",
    "\twilcox.test(dat$D1,dat$D2)\n",
    "    ```\n",
    "  > Given that the two distributions have such similar means, we are not surprised to find that these tests show that the distributions are not significantly different (t.test: p = 0.68. wilcox.test: p=0.97)\n",
    "1. Now plot the data as a Cumulative Distribution Function. Although the means of the data sets are similar, their distributions definitely have a distinct shape.\n",
    "```\n",
    "D1=ecdf(dat$D1)\n",
    "D2=ecdf(dat$D2)\t\n",
    "plot(D2,pch=20)\n",
    "lines(D1,pch=1,lty=3)\n",
    "```\n",
    "\n",
    "1. The Kolmogorov-Smirnov test is a non-parametric test used to investigate the “shape” of a distribution. See what happens when you run a ks.test\n",
    "\t\t`ks.test(dat$D1,dat$D2)`\n",
    "  > This test demonstrates that the two distributions are in fact different even though the means are so similar (p=0.031)\n",
    "\n",
    "---\n",
    "\n",
    "Let’s try a little computer simulation, generating “fake” random data to help us understand how often false positive can occur.\n",
    "1. One trial is defined as follows: take two random samples (n = 10) from a normal distribution and run a two-sample t-test on them, taking note of the p-value. Figure out how to run a trial.\n",
    "1. One experiment is 100 trials. (you should have 100 p-values at the end of an experiment). In the course of one experiment, how often are the two random samples significantly different from each other (at the level of alpha = 0.05)? Take a note of that number.\n",
    "1. Run the above experiment about 100 more times… Isn’t it interesting that the number of statistically different “data sets” is always very close to 5? Why do you think this may be the case? What implications does it have for t-tests? We’ll cover this more in detail in the next few lectures.\n"
   ]
  },
  {
   "cell_type": "code",
   "execution_count": null,
   "metadata": {
    "collapsed": true
   },
   "outputs": [],
   "source": [
    "# 4.a\n",
    "par(mfrow=c(1, 1))\n",
    "data <- data.frame(read.xlsx('./Week 03 - data.xlsx', sheetName='problem 4', startRow=3))\n",
    "boxplot(data)\n",
    "\n",
    "#4.b\n",
    "t.test(data$X25.2, data$X42.7)\n",
    "wilcox.test(data$X25.2, data$X42.7)\n",
    "\n",
    "#4.c\n",
    "plot(ecdf(x=data$X25.2))\n",
    "plot(ecdf(x=data$X42.7))\n",
    "\n",
    "#4.d\n",
    "ks.test(data$X25.2, data$X42.7)\n",
    "\n",
    "#5.a\n",
    "sim_pvals <- function(mn1, mn2, sd1=1, sd2=1, n_sim=1000, n_samp=10) {\n",
    "  p.vals <- vector(length=n_sim)\n",
    "  for (i in seq(n_sim)) {\n",
    "    a <- rnorm(n_samp, mean=mn1, sd=sd1)\n",
    "    b <- rnorm(n_samp, mean=mn2, sd=sd2)\n",
    "    p.vals[i] <- t.test(a, b)$p.value\n",
    "  }\n",
    "  par(mfrow=c(1, 2))\n",
    "  hist(p.vals, freq=F)\n",
    "  plot(ecdf(p.vals))\n",
    "}\n",
    "\n",
    "sim_pvals(0, 0, sd1=1, sd2=1)"
   ]
  }
 ],
 "metadata": {
  "hide_input": false,
  "kernelspec": {
   "display_name": "Python 3",
   "language": "python",
   "name": "python3"
  },
  "language_info": {
   "codemirror_mode": {
    "name": "ipython",
    "version": 3
   },
   "file_extension": ".py",
   "mimetype": "text/x-python",
   "name": "python",
   "nbconvert_exporter": "python",
   "pygments_lexer": "ipython3",
   "version": "3.4.4"
  }
 },
 "nbformat": 4,
 "nbformat_minor": 1
}
