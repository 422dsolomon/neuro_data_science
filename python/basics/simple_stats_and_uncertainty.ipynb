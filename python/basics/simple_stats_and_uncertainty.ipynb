{
 "cells": [
  {
   "cell_type": "markdown",
   "metadata": {},
   "source": [
    "# Conceptual questions\n",
    "We would like to know whether neurons in auditory cortex respond more to natural sounds or synthetic sounds. We record from one neuron at a time and play a sequence of natural and synthetic sounds. We predict that the response to natural sounds will be higher.\n",
    "\n",
    "* What is the null hypothesis?"
   ]
  },
  {
   "cell_type": "markdown",
   "metadata": {},
   "source": [
    "> That the response to natural sounds is no different from the response to synthetic sounds."
   ]
  },
  {
   "cell_type": "markdown",
   "metadata": {},
   "source": [
    "* What is the alternative hypothesis?"
   ]
  },
  {
   "cell_type": "markdown",
   "metadata": {},
   "source": [
    "  > That the response to natural sounds is higher than the response to synthetic sounds"
   ]
  },
  {
   "cell_type": "markdown",
   "metadata": {},
   "source": [
    "* Describe the results and conclusion that would constitute a Type 1 / false positive error."
   ]
  },
  {
   "cell_type": "markdown",
   "metadata": {},
   "source": [
    "  > The response to natural sounds is no different than the response to synthetic sounds, but through random variation of the cells we record from, we happen to record a rate during natural sounds that is significantly different than that of synthetic sounds.  As such, we incorrectly conclude natural sounds elicit a stronger response, even though this isn’t true."
   ]
  },
  {
   "cell_type": "markdown",
   "metadata": {},
   "source": [
    "* Describe the results and conclusion that would constitute a Type 2 / false negative error."
   ]
  },
  {
   "cell_type": "markdown",
   "metadata": {},
   "source": [
    "  > The response to natural sounds is, in fact, higher than the response to synthetic sounds, but through random variation of the cells, we happen to record a firing rate for natural sounds that is sufficiently close to that of synthetic sounds that we cannot reject the hypothesis that there is no difference.  As such, we have failed to find a significant difference where there actually is one."
   ]
  },
  {
   "cell_type": "markdown",
   "metadata": {},
   "source": [
    "* Can you think of another type of possible error that is neither Type 1 nor Type 2?"
   ]
  },
  {
   "cell_type": "markdown",
   "metadata": {},
   "source": [
    "  > There could be error in the instrumentation that we use, or errors in the formulation of hypotheses that we’ve chosen (e.g., maybe we choose the wrong distribution, or maybe we choose the incorrect hypothesis to test in the first place)."
   ]
  },
  {
   "cell_type": "markdown",
   "metadata": {},
   "source": [
    "* Given that we believed a priori that the response to natural sounds would be higher, should we use a one-tailed or two-tailed statistical test to compare the responses? If you said one-tailed, what would we conclude if the measured response was actually lower for natural sounds? If you said two-tailed, under what circumstances would a one-tailed test be appropriate?"
   ]
  },
  {
   "cell_type": "markdown",
   "metadata": {},
   "source": [
    "  > We should use a one-tailed test if we only have reason to believe that the response is higher.  That said, it is better to keep it a two-tailed test in general.  If we did run a one-tailed test and got a value that is lower than that for synthetic sounds, we can only fail to reject the null hypothesis, we cannot make statements about significance in the other direction.  In general, we should only use a one-tailed test if it is physically impossible for the signal to be smaller / larger than the null hypothesis"
   ]
  },
  {
   "cell_type": "markdown",
   "metadata": {},
   "source": [
    "* To keep it simple, first imagine that the response to the natural sound is so much greater than the response to the artificial sound that we pass every possible statistical test with flying colors. May we “reject the null hypothesis” or “accept the alternative hypothesis”? Both? Neither? Why?\n",
    "  "
   ]
  },
  {
   "cell_type": "markdown",
   "metadata": {},
   "source": [
    "> Our statistics thus far have only tested the validity of the null hypothesis, so we can only reject the null hypothesis.  This is because we haven’t quantified our uncertainty in the alternative hypothesis at all, only talked about its relationship to the null."
   ]
  },
  {
   "cell_type": "markdown",
   "metadata": {},
   "source": [
    "* Now a more realistic scenario. The response to natural sounds is moderately larger than the response to artificial sounds, but we aren’t sure if this is a real effect or just random. A statistical test (t-test or something similar) produces a p-value of 0.01. What does this tell us about the likelihood of our data under the null hypothesis? What about the alternative hypothesis? "
   ]
  },
  {
   "cell_type": "markdown",
   "metadata": {},
   "source": [
    "  > The p-value tells us that we have a 1% chance of seeing our data, or data more extreme, if the null hypothesis was true.  It doesn’t say anything about how true the alternative hypothesis is, because we have not specified a specific value for an alternative hypothesis.\n",
    "\n",
    "##\tGive arguments FOR and AGAINST each of the following statements."
   ]
  },
  {
   "cell_type": "markdown",
   "metadata": {},
   "source": [
    "* Alpha=0.05 is a meaningful value because 5% is an acceptable level of risk."
   ]
  },
  {
   "cell_type": "markdown",
   "metadata": {},
   "source": [
    "  > FOR: 5% is pretty unlikely, so we can be reasonably sure that data we get which resides in this percentage is unlikely enough to reject the null hypothesis.  \n",
    "  > AGAINST: 5% is unlikely, but not so unlikely that we cannot expect to have type 1 errors.  If our p-values are 5%, then theoretically one in twenty papers has incorrect conclusions."
   ]
  },
  {
   "cell_type": "markdown",
   "metadata": {},
   "source": [
    "* Alpha=0.05 is not particularly meaningful except that it is a useful convention making it possible to compare across studies."
   ]
  },
  {
   "cell_type": "markdown",
   "metadata": {},
   "source": [
    "  > FOR: true, the community needs to agree on some statistical level for “significance”, so alpha = .05 is a good balance between statistical meaningfulness and practicality.\n",
    "  \n",
    "  > AGAINST: alpha=.05 is an important marker because a 1/20 chance is the ideal point beyond which we should reject a hypothesis.  This is because 95% of the data will lie within two standard deviations of the mean, so it makes sense to make this the “cutoff point”  "
   ]
  },
  {
   "cell_type": "markdown",
   "metadata": {},
   "source": [
    "* Alpha=0.05 is completely arbitrary and therefore hypothesis testing is meaningless. Instead, we should provide point and interval estimates of the effect size. (Nota Bene: A commonly held belief among Bayesians and non-biologists!)"
   ]
  },
  {
   "cell_type": "markdown",
   "metadata": {
    "collapsed": false
   },
   "source": [
    "  > FOR: True, .05 only tells us whether a null hypothesis is true, but doesn’t tell us anything about the actual value we’re trying to measure, it just says whether it’s different from a null.  Instead, we should be quantifying our uncertainty in the statistic, not our uncertainty in its deviation from a null.\n",
    "  \n",
    "  > AGAINST: False.  While interval estimates are useful, they are just one tool in our toolset.  It may not be perfect, but hypothesis testing is still a useful way of making statements about our data’s relationship to a null hypothesis, and it should still be used."
   ]
  },
  {
   "cell_type": "markdown",
   "metadata": {
    "collapsed": true
   },
   "source": [
    "# Problem sets"
   ]
  },
  {
   "cell_type": "markdown",
   "metadata": {},
   "source": [
    "1.\tGenerate two random datasets with the following parameters: N=25, mu1=7, mu2=10, sd1=sd2=5. Plot the histograms of each dataset. Do you think they are significantly different? Run a t-test and report the p-value."
   ]
  },
  {
   "cell_type": "code",
   "execution_count": 34,
   "metadata": {
    "collapsed": true
   },
   "outputs": [],
   "source": [
    "import numpy as np\n",
    "import matplotlib.pyplot as plt\n",
    "from scipy.stats import ttest_ind, ttest_1samp\n",
    "%matplotlib inline"
   ]
  },
  {
   "cell_type": "code",
   "execution_count": 28,
   "metadata": {
    "collapsed": true
   },
   "outputs": [],
   "source": [
    "### Answer\n",
    "# The data\n",
    "# N = 25\n",
    "N = 75\n",
    "mu1 = 7\n",
    "mu2 = 10\n",
    "sd = 5\n",
    "\n",
    "# Generate random data\n",
    "data1 = sd * np.random.randn(N) + mu1\n",
    "data2 = sd * np.random.randn(N) + mu2"
   ]
  },
  {
   "cell_type": "code",
   "execution_count": 29,
   "metadata": {
    "collapsed": false
   },
   "outputs": [
    {
     "data": {
      "text/plain": [
       "(array([  2.,   0.,   1.,  13.,  10.,  11.,  18.,  11.,   6.,   3.]),\n",
       " array([ -6.20268508,  -3.34321962,  -0.48375416,   2.37571129,\n",
       "          5.23517675,   8.09464221,  10.95410767,  13.81357312,\n",
       "         16.67303858,  19.53250404,  22.3919695 ]),\n",
       " <a list of 10 Patch objects>)"
      ]
     },
     "execution_count": 29,
     "metadata": {},
     "output_type": "execute_result"
    },
    {
     "data": {
      "image/png": "[encoded data removed]",
      "text/plain": [
       "<matplotlib.figure.Figure at 0x110161ef0>"
      ]
     },
     "metadata": {},
     "output_type": "display_data"
    }
   ],
   "source": [
    "# Histograms\n",
    "fig, ax = plt.subplots()\n",
    "ax.hist(data1)\n",
    "ax.hist(data2)"
   ]
  },
  {
   "cell_type": "code",
   "execution_count": 30,
   "metadata": {
    "collapsed": false
   },
   "outputs": [
    {
     "name": "stdout",
     "output_type": "stream",
     "text": [
      "0.00123665214429\n"
     ]
    }
   ],
   "source": [
    "result = ttest_ind(data1, data2)\n",
    "print(result.pvalue)"
   ]
  },
  {
   "cell_type": "markdown",
   "metadata": {},
   "source": [
    "2.\tMake a bar plot with the mean and standard deviation of each dataset. If you could only look at this bar plot (in a paper figure, for instance), would you be able to tell if the difference was significant? Repeat for standard error. Compare and contrast the information provided by each metric."
   ]
  },
  {
   "cell_type": "code",
   "execution_count": 31,
   "metadata": {
    "collapsed": true
   },
   "outputs": [],
   "source": [
    "# Generate data\n",
    "mn1 = np.mean(data1)\n",
    "mn2 = np.mean(data2)\n",
    "\n",
    "std1 = np.std(data1)\n",
    "std2 = np.std(data2)\n",
    "\n",
    "ste1 = std1 / np.sqrt(N)\n",
    "ste2 = std2 / np.sqrt(N)"
   ]
  },
  {
   "cell_type": "code",
   "execution_count": 32,
   "metadata": {
    "collapsed": false
   },
   "outputs": [
    {
     "data": {
      "image/png": "[encoded data removed]",
      "text/plain": [
       "<matplotlib.figure.Figure at 0x10fe567b8>"
      ]
     },
     "metadata": {},
     "output_type": "display_data"
    }
   ],
   "source": [
    "fig, axs = plt.subplots(2, 1, sharex=True, sharey=True)\n",
    "for ax, err1, err2, nm in zip(axs, [std1, ste1], [std2, ste2], ['std', 'ste']):\n",
    "    ax.vlines([0, 1], [mn1 - err1, mn2 - err2], [mn1 + err1, mn2 + err2])\n",
    "    _ = plt.setp(ax, xlim=[-1, 2], title='Error: {}'.format(nm))\n",
    "plt.tight_layout()"
   ]
  },
  {
   "cell_type": "markdown",
   "metadata": {},
   "source": [
    "3.\tNow repeat steps 1 and 2, except this time let N=75 so the statistical power is greater. Which metrics change?\n",
    "> Basically, the standard deviations remained the same (or even grew), but the standard error and confidence intervals shrank quite a lot.  This is because we reduced our uncertainty in the mean parameter."
   ]
  },
  {
   "cell_type": "markdown",
   "metadata": {},
   "source": [
    "# The pitfalls of significance testing\n",
    "In this problem we will simulate what p-values are obtained in the absence of any real effect. We will simulate data with a mean of 60, and then test the hypothesis that the mean differs from 60.\n",
    "1.\tFirst guess what the results will be. (No penalty for an incorrect guess.) Will we obtain large p-values (near one)? Small p-values (near zero)?\n",
    "We’ll obtain large p-values (near one)\n",
    "2.\tWrite an R script to generate 500 normal deviates (that is, 500 samples from a normal distribution) with mean 60 and standard deviation 5.\n",
    "3.\tDo a t-test on this data versus a mean of 60. What is the p-value?\n",
    "4.\tUse a loop to repeat steps 2 and 3 one thousand times. What does the distribution of p-values look like?\n",
    "> They are uniformly distributed between 0 and 1, roughly speaking.  As such, 5% of the values fall below .05.\n",
    "5.\tDoes a large p-value mean the null hypothesis is “more true”? Does a small p-value mean that it is “less true”? \n",
    "> Larger p-values meant that the sample mean had a larger deviation from 60.  However, this didn’t have anything to do with the null distribution being more or less true."
   ]
  },
  {
   "cell_type": "code",
   "execution_count": 33,
   "metadata": {
    "collapsed": true
   },
   "outputs": [],
   "source": [
    "# The data\n",
    "N = 500\n",
    "mu = 60\n",
    "sd = 5\n",
    "\n",
    "N_tests = 1000\n",
    "pvalues = np.zeros(N_tests)"
   ]
  },
  {
   "cell_type": "code",
   "execution_count": 35,
   "metadata": {
    "collapsed": true
   },
   "outputs": [],
   "source": [
    "for ii in range(N_tests):\n",
    "    # Generate random data\n",
    "    data = sd * np.random.randn(N) + mu    \n",
    "\n",
    "    # Test vs 60\n",
    "    ttest_res = ttest_1samp(data, mu)\n",
    "\n",
    "    # Store p-value\n",
    "    pvalues[ii] = ttest_res.pvalue"
   ]
  },
  {
   "cell_type": "code",
   "execution_count": 38,
   "metadata": {
    "collapsed": false
   },
   "outputs": [
    {
     "data": {
      "image/png": "[encoded data removed]",
      "text/plain": [
       "<matplotlib.figure.Figure at 0x110ab9f98>"
      ]
     },
     "metadata": {},
     "output_type": "display_data"
    }
   ],
   "source": [
    "# Show the distribution of p-values\n",
    "fig, ax = plt.subplots()\n",
    "_ = ax.hist(pvalues)"
   ]
  },
  {
   "cell_type": "markdown",
   "metadata": {},
   "source": [
    "In this problem we will construct a confidence interval and hypothesis acceptance region of the data in the first problem.\n",
    "\n",
    "1.\tSimilar to problem 1, generate a dataset of 500 normal deviates with mean 60 and standard deviation 5. What is the sample mean? Is this a point estimate or an interval estimate?\n",
    "> Point estimate.\n",
    "2.\tCalculate a 95% confidence interval on the population mean by bootstrapping. Construct 1000 surrogate datasets by drawing with replacement from the data. Calculate the mean of each surrogate dataset. Plot a histogram of the surrogate means. How does the mean and spread of this histogram compare to the histogram in part 1? Why?\n",
    "> It is much tighter than the distribution of the data itself, this is because there is less variability in the mean of the distribution.\n",
    "3.\tCalculate an interval that contains 95% of the surrogate means. Does this contain the true mean? Run the script over and over again. Does it always contain the true mean? How often would we expect it to contain the true mean? Why?\n",
    "> It does seem to cover the true mean each time, which is a bit strange.  It seems like it should only cover the mean 5% of the time…\n",
    "4.\tBONUS QUESTION: Calculate the acceptance region of this hypothesis: “the population mean is test_mu”. Do this by looping over 1000 test_mu points in the range (58,62) and testing your original dataset against each value of test_mu in this range. For what values of test_mu is the obtained p-value less than 0.05? This range should be close to equal to the confidence interval you obtained in part 3. Why?\n",
    "> This is because when we calculate a confidence interval, we are 95% certain that the true mean is in this interval.  When we calculate the t-test p-values, we choose cutoff points so that these points fall in the remaining 5% on the tails of the distribution.  Since in this simulation, the true mean is 60, then to our 95% confidence intervals should be centered around this mean.  Those intervals also correspond to roughly 95% of the probability mass of the normal distribution, which means they’re also cutoff points for p-values."
   ]
  },
  {
   "cell_type": "code",
   "execution_count": 40,
   "metadata": {
    "collapsed": false
   },
   "outputs": [
    {
     "data": {
      "image/png": "[encoded data removed]",
      "text/plain": [
       "<matplotlib.figure.Figure at 0x110058208>"
      ]
     },
     "metadata": {},
     "output_type": "display_data"
    }
   ],
   "source": [
    "# The data\n",
    "N = 500\n",
    "mu = 60\n",
    "sd = 5\n",
    "\n",
    "# Bootstrap parameters\n",
    "N_boots = 1000\n",
    "\n",
    "# Generate random data\n",
    "data = sd * np.random.randn(N) + mu\n",
    "\n",
    "# Plot the data\n",
    "fig, ax = plt.subplots()\n",
    "_ = ax.hist(data)"
   ]
  },
  {
   "cell_type": "code",
   "execution_count": 42,
   "metadata": {
    "collapsed": false
   },
   "outputs": [],
   "source": [
    "# Bootstrap the mean\n",
    "bootstrap_means = np.zeros(N_boots)\n",
    "for ii in range(N_boots):\n",
    "    draw = np.random.choice(data, N)\n",
    "    bootstrap_means[ii] = np.mean(draw)"
   ]
  },
  {
   "cell_type": "code",
   "execution_count": 44,
   "metadata": {
    "collapsed": false
   },
   "outputs": [
    {
     "name": "stdout",
     "output_type": "stream",
     "text": [
      "[ 59.43203294  60.37723858]\n"
     ]
    }
   ],
   "source": [
    "# Percentiles of the bootstrapped means\n",
    "CI = np.percentile(bootstrap_means, [2.5, 97.5])\n",
    "print(CI)"
   ]
  },
  {
   "cell_type": "code",
   "execution_count": 46,
   "metadata": {
    "collapsed": false
   },
   "outputs": [
    {
     "data": {
      "image/png": "[encoded data removed]",
      "text/plain": [
       "<matplotlib.figure.Figure at 0x110197b70>"
      ]
     },
     "metadata": {},
     "output_type": "display_data"
    }
   ],
   "source": [
    "# Plot the bootstrapped means\n",
    "fig, ax = plt.subplots()\n",
    "_ = ax.hist(bootstrap_means)"
   ]
  },
  {
   "cell_type": "code",
   "execution_count": 58,
   "metadata": {
    "collapsed": false
   },
   "outputs": [
    {
     "data": {
      "text/plain": [
       "<matplotlib.lines.Line2D at 0x1101b67b8>"
      ]
     },
     "execution_count": 58,
     "metadata": {},
     "output_type": "execute_result"
    },
    {
     "data": {
      "image/png": "[encoded data removed]",
      "text/plain": [
       "<matplotlib.figure.Figure at 0x10fb7a780>"
      ]
     },
     "metadata": {},
     "output_type": "display_data"
    }
   ],
   "source": [
    "# Test\n",
    "test_mu = np.linspace(58, 62, 1000)\n",
    "test_pval = np.zeros(len(test_mu))\n",
    "for ii, imu in enumerate(test_mu):\n",
    "    ttest_res = ttest_1samp(data, imu)\n",
    "    test_pval[ii] = ttest_res.pvalue\n",
    "\n",
    "# Plot acceptance region\n",
    "fig, ax = plt.subplots()\n",
    "ax.plot(test_mu, test_pval)\n",
    "ax.axhline(.05, c='r', ls='--')"
   ]
  }
 ],
 "metadata": {
  "hide_input": false,
  "kernelspec": {
   "display_name": "Python 2",
   "language": "python",
   "name": "python2"
  },
  "language_info": {
   "codemirror_mode": {
    "name": "ipython",
    "version": 2
   },
   "file_extension": ".py",
   "mimetype": "text/x-python",
   "name": "python",
   "nbconvert_exporter": "python",
   "pygments_lexer": "ipython2",
   "version": "2.7.11"
  }
 },
 "nbformat": 4,
 "nbformat_minor": 1
}
